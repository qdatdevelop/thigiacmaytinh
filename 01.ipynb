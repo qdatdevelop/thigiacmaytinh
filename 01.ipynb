{
 "cells": [
  {
   "cell_type": "code",
   "execution_count": 1,
   "id": "3af870fb-7e8e-4e3a-a29d-0f2f37384231",
   "metadata": {
    "tags": []
   },
   "outputs": [],
   "source": [
    "# Shift + Enter: run code + add row"
   ]
  },
  {
   "cell_type": "code",
   "execution_count": null,
   "id": "a76caf49-4b76-4a40-83c8-6e9dc80d699d",
   "metadata": {
    "tags": []
   },
   "outputs": [],
   "source": [
    "# Cài đặt\n",
    "# !pip install Pillow\n",
    "# !conda install Pillow"
   ]
  },
  {
   "cell_type": "code",
   "execution_count": 12,
   "id": "883e74ed-b01e-4378-9e0b-41e8a076d5ad",
   "metadata": {
    "tags": []
   },
   "outputs": [],
   "source": [
    "\n",
    "from PIL import Image"
   ]
  },
  {
   "cell_type": "code",
   "execution_count": 3,
   "id": "ee5af0dc-d2a7-47f6-819b-7c056d9a9367",
   "metadata": {
    "tags": []
   },
   "outputs": [],
   "source": [
    "\n",
    "dir = 'C:/Users/QUOC DAT/Downloads/computer-vision-main/computer-vision-main/images'"
   ]
  },
  {
   "cell_type": "code",
   "execution_count": 19,
   "id": "2dcb6210-9745-4653-a438-e87047ee00ff",
   "metadata": {
    "tags": []
   },
   "outputs": [
    {
     "name": "stdout",
     "output_type": "stream",
     "text": [
      "C:/Users/QUOC DAT/Downloads/computer-vision-main/computer-vision-main/images/1.jpg\n"
     ]
    }
   ],
   "source": [
    "# Đường dẫn đến hình ảnh\n",
    "image_path = dir +'1.jpg'\n",
    "print(image_path)"
   ]
  },
  {
   "cell_type": "code",
   "execution_count": 20,
   "id": "e3fb04ed-2f82-46b3-a7cc-1404edba5cdf",
   "metadata": {
    "tags": []
   },
   "outputs": [],
   "source": [
    "\n",
    "img01 = Image.open(image_path)"
   ]
  },
  {
   "cell_type": "code",
   "execution_count": 21,
   "id": "60e1d9d1-7f4d-4b34-816f-9964121288ac",
   "metadata": {
    "tags": []
   },
   "outputs": [
    {
     "name": "stdout",
     "output_type": "stream",
     "text": [
      "Định dang ảnh:  JPEG\n"
     ]
    }
   ],
   "source": [
    "\n",
    "print(\"Định dang ảnh: \", img01.format)"
   ]
  },
  {
   "cell_type": "code",
   "execution_count": 22,
   "id": "4d3d1048-3025-4d1d-b694-442740b4e541",
   "metadata": {
    "tags": []
   },
   "outputs": [
    {
     "name": "stdout",
     "output_type": "stream",
     "text": [
      "Kích thước hình ảnh:  (1000, 667)\n"
     ]
    }
   ],
   "source": [
    "\n",
    "print(\"Kích thước hình ảnh: \", img01.size)"
   ]
  },
  {
   "cell_type": "code",
   "execution_count": 23,
   "id": "b696ad7d-78ec-4c32-bd77-e450e606daff",
   "metadata": {
    "tags": []
   },
   "outputs": [],
   "source": [
    "\n",
    "new_img_01_path = dir + '/new_01.JPG'\n",
    "new_img_png_01_path = dir + '/new_01.PNG'\n",
    "img01.save(new_img_01_path)\n",
    "img01.save(new_img_png_01_path)"
   ]
  },
  {
   "cell_type": "code",
   "execution_count": 24,
   "id": "b961eb86-acd4-48ef-b7a9-1bdee88460ca",
   "metadata": {
    "tags": []
   },
   "outputs": [],
   "source": [
    "# Đóng tập tin\n",
    "img01.close()"
   ]
  }
 ],
 "metadata": {
  "kernelspec": {
   "display_name": "Python 3",
   "language": "python",
   "name": "python3"
  },
  "language_info": {
   "codemirror_mode": {
    "name": "ipython",
    "version": 3
   },
   "file_extension": ".py",
   "mimetype": "text/x-python",
   "name": "python",
   "nbconvert_exporter": "python",
   "pygments_lexer": "ipython3",
   "version": "3.12.4"
  }
 },
 "nbformat": 4,
 "nbformat_minor": 5
}
