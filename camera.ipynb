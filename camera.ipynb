{
 "cells": [
  {
   "cell_type": "code",
   "execution_count": 2,
   "metadata": {},
   "outputs": [
    {
     "name": "stdout",
     "output_type": "stream",
     "text": [
      "Đã chụp ảnh: nhandienkhuonmat\\image_1.jpg\n",
      "Đã chụp ảnh: nhandienkhuonmat\\image_2.jpg\n",
      "Đã chụp ảnh: nhandienkhuonmat\\image_3.jpg\n",
      "Đã chụp ảnh: nhandienkhuonmat\\image_4.jpg\n",
      "Đã chụp ảnh: nhandienkhuonmat\\image_5.jpg\n",
      "Đã chụp ảnh: nhandienkhuonmat\\image_6.jpg\n",
      "Đã chụp ảnh: nhandienkhuonmat\\image_7.jpg\n",
      "Đã chụp ảnh: nhandienkhuonmat\\image_8.jpg\n",
      "Đã chụp ảnh: nhandienkhuonmat\\image_9.jpg\n",
      "Đã chụp ảnh: nhandienkhuonmat\\image_10.jpg\n"
     ]
    }
   ],
   "source": [
    "import cv2\n",
    "import os\n",
    "\n",
    "folder_name = 'nhandienkhuonmat'\n",
    "if not os.path.exists(folder_name):\n",
    "    os.makedirs(folder_name)\n",
    "\n",
    "camera = cv2.VideoCapture(0)\n",
    "\n",
    "\n",
    "image_count = 0\n",
    "\n",
    "while image_count < 100:\n",
    "    ret, frame = camera.read()\n",
    "    if not ret:\n",
    "        break\n",
    "\n",
    "    cv2.imshow('Camera', frame)\n",
    "\n",
    "    if cv2.waitKey(1) & 0xFF == ord('a'):\n",
    "        image_count += 1\n",
    "        image_path = os.path.join(folder_name, f'image_{image_count}.jpg')\n",
    "        cv2.imwrite(image_path, frame)\n",
    "        print(f'Đã chụp ảnh: {image_path}')\n",
    "\n",
    "camera.release()\n",
    "cv2.destroyAllWindows()\n"
   ]
  }
 ],
 "metadata": {
  "kernelspec": {
   "display_name": "Python 3",
   "language": "python",
   "name": "python3"
  },
  "language_info": {
   "codemirror_mode": {
    "name": "ipython",
    "version": 3
   },
   "file_extension": ".py",
   "mimetype": "text/x-python",
   "name": "python",
   "nbconvert_exporter": "python",
   "pygments_lexer": "ipython3",
   "version": "3.13.0"
  }
 },
 "nbformat": 4,
 "nbformat_minor": 2
}
