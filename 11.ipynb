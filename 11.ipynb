{
 "cells": [
  {
   "cell_type": "code",
   "execution_count": 21,
   "metadata": {},
   "outputs": [
    {
     "name": "stdout",
     "output_type": "stream",
     "text": [
      "[ 1  2  3  6  2 31]\n",
      "31\n"
     ]
    }
   ],
   "source": [
    "import numpy as np\n",
    "mang = np.array([1,2,3,6,2,31])\n",
    "print(mang)\n",
    "element = mang[5]\n",
    "print(element)"
   ]
  },
  {
   "cell_type": "code",
   "execution_count": 22,
   "metadata": {},
   "outputs": [
    {
     "name": "stdout",
     "output_type": "stream",
     "text": [
      "Mang 2 chieu:\n",
      "[[1 2 3]\n",
      " [4 5 6]\n",
      " [7 8 9]]\n",
      "6\n"
     ]
    }
   ],
   "source": [
    "\n",
    "mang2chieu = np.array([[1, 2, 3], [4, 5, 6], [7, 8, 9]])\n",
    "print(\"Mang 2 chieu:\")\n",
    "print(mang2chieu)\n",
    "\n",
    "\n",
    "element = mang2chieu [1, 2]\n",
    "print(element)"
   ]
  },
  {
   "cell_type": "code",
   "execution_count": 23,
   "metadata": {},
   "outputs": [
    {
     "name": "stdout",
     "output_type": "stream",
     "text": [
      "[ 1  2  3  6  2 31]\n",
      "[1. 1. 1. 1. 1.]\n",
      "[1. 1. 1. 1. 1.]\n",
      "[ 0  1  2  3  4  5  6  7  8  9 10 11 12 13 14 15 16 17 18 19 20 21 22 23\n",
      " 24 25 26 27 28 29 30 31 32 33 34 35 36 37 38 39 40 41 42 43 44 45 46 47\n",
      " 48 49 50 51 52 53 54 55 56 57 58 59 60 61 62 63 64 65 66 67 68 69 70 71\n",
      " 72 73 74 75 76 77 78 79 80 81 82 83 84 85 86 87 88 89 90 91 92 93 94 95\n",
      " 96 97 98 99]\n",
      "[ 0.          1.66666667  3.33333333  5.          6.66666667  8.33333333\n",
      " 10.        ]\n"
     ]
    },
    {
     "data": {
      "text/plain": [
       "array([1, 1, 1, 1, 1], dtype=int64)"
      ]
     },
     "execution_count": 23,
     "metadata": {},
     "output_type": "execute_result"
    }
   ],
   "source": [
    "mangt = np.zeros(5)\n",
    "print(mang)\n",
    "\n",
    "mang = np.ones(5)\n",
    "print(mang)\n",
    "\n",
    "mang = np.empty(5)\n",
    "print(mang)\n",
    "\n",
    "mang = np.arange(100)\n",
    "print(mang)\n",
    "\n",
    "mang = np.linspace(0, 10, num=7)\n",
    "print(mang)\n",
    "\n",
    "mang = np.ones(5, dtype=np.int64)\n",
    "mang"
   ]
  },
  {
   "cell_type": "code",
   "execution_count": 24,
   "metadata": {},
   "outputs": [
    {
     "name": "stdout",
     "output_type": "stream",
     "text": [
      "[  3   1   2   4   5   2  21 412 112]\n",
      "[  1   2   2   3   4   5  21 112 412]\n",
      "[412 112  21   5   4   3   2   2   1]\n",
      "[412 112  21   5   4   3   2   2   1 100]\n",
      "[412 112  21   4   3   2   2   1 100]\n"
     ]
    }
   ],
   "source": [
    "\n",
    "mang1 = np.array([3, 1, 2, 4, 5,2,21,412,112])\n",
    "print(mang1)\n",
    "\n",
    "\n",
    "mang1 = np.sort(mang1)\n",
    "print(mang1)\n",
    "\n",
    "\n",
    "mang1 = np.sort(mang1)[::-1]\n",
    "print(mang1)\n",
    "\n",
    "\n",
    "mang1 = np.append(mang1, 100)\n",
    "print(mang1)\n",
    "\n",
    "mang1 = np.delete(mang1, 3)\n",
    "print(mang1)"
   ]
  },
  {
   "cell_type": "code",
   "execution_count": 25,
   "metadata": {},
   "outputs": [
    {
     "name": "stdout",
     "output_type": "stream",
     "text": [
      "[[1 2 3]\n",
      " [4 6 8]\n",
      " [5 7 9]]\n",
      "[[3 1 2]\n",
      " [4 6 5]\n",
      " [9 7 8]]\n"
     ]
    }
   ],
   "source": [
    "mang = np.array([[3, 1, 2],\n",
    "                [4, 6, 8],\n",
    "                [9, 7, 5]])\n",
    "\n",
    "hang = np.sort(mang, axis=1) # tăng dần\n",
    "print(hang)\n",
    "cot = np.sort(mang, axis=0) # tăng dần\n",
    "print(cot)"
   ]
  },
  {
   "cell_type": "code",
   "execution_count": 26,
   "metadata": {},
   "outputs": [
    {
     "name": "stdout",
     "output_type": "stream",
     "text": [
      "[[3 2 1]\n",
      " [8 6 4]\n",
      " [9 7 5]]\n",
      "[[9 7 8]\n",
      " [4 6 5]\n",
      " [3 1 2]]\n"
     ]
    }
   ],
   "source": [
    "\n",
    "mang = np.array([[3, 1, 2],\n",
    "                [4, 6, 8],\n",
    "                [9, 7, 5]])\n",
    "\n",
    "hang = -np.sort(-mang, axis=1) # giảm dần\n",
    "print(hang)\n",
    "\n",
    "cot = -np.sort(-mang, axis=0) # giảm dần\n",
    "print(cot)"
   ]
  },
  {
   "cell_type": "code",
   "execution_count": 27,
   "metadata": {},
   "outputs": [
    {
     "name": "stdout",
     "output_type": "stream",
     "text": [
      "Số chiều: 2\n",
      "Kích thước: 6\n",
      "Hình dạng: (2, 3)\n"
     ]
    }
   ],
   "source": [
    "mang = np.array([[1, 2, 3], [4, 5, 6]])\n",
    "\n",
    "chieu = mang.ndim  \n",
    "sz = mang.size  \n",
    "hdang = mang.shape  \n",
    "print(\"Số chiều:\", chieu)\n",
    "print(\"Kích thước:\", sz)\n",
    "print(\"Hình dạng:\", hdang)"
   ]
  },
  {
   "cell_type": "code",
   "execution_count": 28,
   "metadata": {},
   "outputs": [
    {
     "name": "stdout",
     "output_type": "stream",
     "text": [
      "[1. 2. 3. 4. 5.]\n"
     ]
    }
   ],
   "source": [
    "mang = np.array([1, 2, 3, 4, 5])\n",
    "mang_doi = mang.astype(float)\n",
    "print(mang_doi)"
   ]
  },
  {
   "cell_type": "code",
   "execution_count": 29,
   "metadata": {},
   "outputs": [
    {
     "name": "stdout",
     "output_type": "stream",
     "text": [
      "[[1 2 3]\n",
      " [4 5 6]]\n",
      "[[1 2]\n",
      " [3 4]\n",
      " [5 6]]\n",
      "[1 2 3 4 5 6]\n"
     ]
    }
   ],
   "source": [
    "mang = np.array([1, 2, 3, 4, 5, 6])\n",
    "doi1 = mang.reshape(2,3)\n",
    "print(doi1)\n",
    "doi2 = mang.reshape(3,2)\n",
    "print(doi2)\n",
    "\n",
    "doi3 = mang.flatten()\n",
    "print(doi3)"
   ]
  },
  {
   "cell_type": "code",
   "execution_count": 30,
   "metadata": {},
   "outputs": [
    {
     "name": "stdout",
     "output_type": "stream",
     "text": [
      "[2 3 4]\n",
      "[1 2 3 4]\n",
      "[4 5]\n"
     ]
    }
   ],
   "source": [
    "\n",
    "mang = np.array([1, 2, 3, 4, 5])\n",
    "\n",
    "cat1 = mang[1:4]  \n",
    "print(cat1)\n",
    "\n",
    "cat2 = mang[:-1]  \n",
    "print(cat2)\n",
    "\n",
    "cat3 = mang[-2:]  \n",
    "print(cat3)"
   ]
  },
  {
   "cell_type": "code",
   "execution_count": 31,
   "metadata": {},
   "outputs": [
    {
     "name": "stdout",
     "output_type": "stream",
     "text": [
      "[[1 2 3]\n",
      " [4 5 6]]\n",
      "[[1 4]\n",
      " [2 5]\n",
      " [3 6]]\n"
     ]
    }
   ],
   "source": [
    "\n",
    "mang = np.array([[1, 2, 3], [4, 5, 6]])\n",
    "print(mang)\n",
    "chuyenvi = mang.T\n",
    "print(chuyenvi)"
   ]
  },
  {
   "cell_type": "code",
   "execution_count": 32,
   "metadata": {},
   "outputs": [
    {
     "name": "stdout",
     "output_type": "stream",
     "text": [
      "[1 2 3 4 5 6]\n"
     ]
    }
   ],
   "source": [
    "m1 = np.array([1, 2, 3])\n",
    "m2 = np.array([4, 5, 6])\n",
    "m = np.concatenate((m1, m2))\n",
    "print(m)"
   ]
  },
  {
   "cell_type": "code",
   "execution_count": 39,
   "metadata": {},
   "outputs": [
    {
     "name": "stdout",
     "output_type": "stream",
     "text": [
      "Tổng của mảng : 198\n",
      "Giá trị trung bình của mảng : 18.0\n",
      "Giá trị lớn nhất trong mảng arr: 131\n",
      "Giá trị nhỏ nhất trong mảng arr: 1\n",
      "Độ lệch chuẩn của mảng arr: 36.138621999185304\n",
      "Phương sai của mảng m: 1306.0\n",
      "Tổng tích chập của m1 và m2: 107\n"
     ]
    }
   ],
   "source": [
    "\n",
    "m = np.array([1, 2, 3, 4, 5,6 ,7 ,8 ,9, 22,131])\n",
    "tong = np.sum(m)\n",
    "print(\"Tổng của mảng :\", tong)\n",
    "\n",
    "trungbinh = np.mean(m)\n",
    "print(\"Giá trị trung bình của mảng :\", trungbinh)\n",
    "\n",
    "max = np.max(m)\n",
    "min = np.min(m)\n",
    "print(\"Giá trị lớn nhất trong mảng arr:\", max)\n",
    "print(\"Giá trị nhỏ nhất trong mảng arr:\", min)\n",
    "\n",
    "dolech = np.std(m)\n",
    "print(\"Độ lệch chuẩn của mảng arr:\", dolech)\n",
    "\n",
    "\n",
    "phuongsai = np.var(m)\n",
    "print(\"Phương sai của mảng m:\", phuongsai)\n",
    "\n",
    "\n",
    "m1 = np.array([5, 10, 3])\n",
    "m2 = np.array([4, 6, 9])\n",
    "tichchap = np.dot(m1, m2)\n",
    "print(\"Tổng tích chập của m1 và m2:\", tichchap)"
   ]
  }
 ],
 "metadata": {
  "kernelspec": {
   "display_name": "Python 3",
   "language": "python",
   "name": "python3"
  },
  "language_info": {
   "codemirror_mode": {
    "name": "ipython",
    "version": 3
   },
   "file_extension": ".py",
   "mimetype": "text/x-python",
   "name": "python",
   "nbconvert_exporter": "python",
   "pygments_lexer": "ipython3",
   "version": "3.12.4"
  }
 },
 "nbformat": 4,
 "nbformat_minor": 2
}
