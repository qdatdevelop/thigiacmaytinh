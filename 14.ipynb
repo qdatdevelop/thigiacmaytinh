{
 "cells": [
  {
   "cell_type": "code",
   "execution_count": null,
   "metadata": {},
   "outputs": [],
   "source": [
    "import numpy as np\n",
    "from PIL import Image\n",
    "\n",
    "def tinh_trung_binh_hinh_anh(danh_sach_hinh):\n",
    "    tong_mang = np.array(Image.open(danh_sach_hinh[0]), 'f')\n",
    "    dem = 1\n",
    "\n",
    "    for duong_dan_hinh in danh_sach_hinh[1:]:\n",
    "        try:\n",
    "            mang_hinh = np.array(Image.open(duong_dan_hinh), 'f')\n",
    "            tong_mang += mang_hinh\n",
    "            dem += 1\n",
    "        except:\n",
    "            print(\"Bỏ qua \", duong_dan_hinh)\n",
    "\n",
    "    trung_binh_mang = tong_mang / dem\n",
    "    hinh_trung_binh = Image.fromarray(trung_binh_mang.astype('uint8'))\n",
    "\n",
    "    return hinh_trung_binh\n",
    "\n",
    "my_path_1 = 'images/1.jpg'\n",
    "my_path_2 = 'images/2.jpg'\n",
    "danh_sach_hinh = [my_path_1, my_path_2]\n",
    "hinh_ket_qua = tinh_trung_binh_hinh_anh(danh_sach_hinh)\n",
    "display(hinh_ket_qua)\n",
    "\n",
    "my_path_1 = 'images/1.jpg'\n",
    "my_path_2 = 'images/2.jpg'\n",
    "danh_sach_hinh = [my_path_1, my_path_2]\n",
    "hinh_ket_qua = tinh_trung_binh_hinh_anh(danh_sach_hinh)\n",
    "display(hinh_ket_qua)\n"
   ]
  }
 ],
 "metadata": {
  "language_info": {
   "name": "python"
  }
 },
 "nbformat": 4,
 "nbformat_minor": 2
}
