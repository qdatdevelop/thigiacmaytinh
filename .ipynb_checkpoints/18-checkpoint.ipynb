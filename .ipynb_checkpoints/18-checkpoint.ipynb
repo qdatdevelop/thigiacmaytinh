{
 "cells": [
  {
   "cell_type": "code",
   "execution_count": null,
   "id": "4b688b3b-bdeb-4017-9279-e744649a6d90",
   "metadata": {},
   "outputs": [],
   "source": [
    "import numpy as np\n",
    "import matplotlib.pyplot as plt\n",
    "from scipy import ndimage\n",
    "from PIL import Image\n",
    "\n",
    "# Đọc ảnh\n",
    "image = Image.open('C:/Users/tungi/OneDrive/Documents/src_cv/img/01/animal.jpg')\n",
    "\n",
    "# Chuyển sang ảnh xám\n",
    "gray_image = image.convert('L')\n",
    "\n",
    "# Chuyển sang ảnh nhị phân\n",
    "binary_image = 1*(gray_image<200)\n",
    "\n",
    "# Đánh nhãn\n",
    "labeled_image, num_features = ndimage.label(binary_image)\n",
    "\n",
    "# Tạo lưới subplot với 3 dòng và 1 cột\n",
    "fig, axs = plt.subplots(3, 1, figsize=(50, 50))\n",
    "\n",
    "plt.subplot(3,1,1)\n",
    "plt.imshow(gray_image, cmap='gray')\n",
    "plt.title(\"Ảnh xám\")\n",
    "\n",
    "plt.subplot(3,1,2)\n",
    "plt.imshow(binary_image, cmap='gray')\n",
    "plt.title(\"Ảnh xám\")\n",
    "\n",
    "plt.subplot(3,1,3)\n",
    "plt.imshow(labeled_image, cmap='gray')\n",
    "plt.title(\"Đã đánh nhãn ({num_features} đối tương)\")\n",
    "\n"
   ]
  }
 ],
 "metadata": {
  "kernelspec": {
   "display_name": "Python 3 (ipykernel)",
   "language": "python",
   "name": "python3"
  },
  "language_info": {
   "codemirror_mode": {
    "name": "ipython",
    "version": 3
   },
   "file_extension": ".py",
   "mimetype": "text/x-python",
   "name": "python",
   "nbconvert_exporter": "python",
   "pygments_lexer": "ipython3",
   "version": "3.11.5"
  }
 },
 "nbformat": 4,
 "nbformat_minor": 5
}
