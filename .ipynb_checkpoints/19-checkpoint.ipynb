{
 "cells": [
  {
   "cell_type": "code",
   "execution_count": 1,
   "id": "96ce3c7a-b7a5-426e-8c28-3598d2f93a0b",
   "metadata": {
    "tags": []
   },
   "outputs": [],
   "source": [
    "# Cài đặt opencv-python\n",
    "# !pip install opencv-python"
   ]
  },
  {
   "cell_type": "code",
   "execution_count": 1,
   "id": "845a1779-8c95-4b93-a74b-40ef5a5054a1",
   "metadata": {
    "tags": []
   },
   "outputs": [],
   "source": [
    "def display(title, img):\n",
    "    cv2.imshow(title, img)\n",
    "    # Chờ một khoảng thời gian\n",
    "    cv2.waitKey(0)\n",
    "    # Đóng window\n",
    "    cv2.destroyWindow(title)"
   ]
  },
  {
   "cell_type": "code",
   "execution_count": 4,
   "id": "0a1796c0-d4e4-477e-a3a1-a1e9f8888a22",
   "metadata": {
    "tags": []
   },
   "outputs": [],
   "source": [
    "# Import thư viện\n",
    "import cv2"
   ]
  },
  {
   "cell_type": "code",
   "execution_count": 5,
   "id": "c4a0647e-2a1e-4a8c-8360-2ad49bd98a4f",
   "metadata": {
    "tags": []
   },
   "outputs": [
    {
     "name": "stdout",
     "output_type": "stream",
     "text": [
      "[[[255 254 255]\n",
      "  [132 134 135]\n",
      "  [110 115 116]\n",
      "  ...\n",
      "  [254 254 254]\n",
      "  [254 254 254]\n",
      "  [255 255 255]]\n",
      "\n",
      " [[255 254 255]\n",
      "  [116 118 119]\n",
      "  [ 62  67  66]\n",
      "  ...\n",
      "  [252 252 252]\n",
      "  [253 253 253]\n",
      "  [254 254 254]]\n",
      "\n",
      " [[255 254 255]\n",
      "  [ 73  73  73]\n",
      "  [ 94  95  93]\n",
      "  ...\n",
      "  [249 249 249]\n",
      "  [252 252 252]\n",
      "  [254 254 254]]\n",
      "\n",
      " ...\n",
      "\n",
      " [[255 255 255]\n",
      "  [253 253 253]\n",
      "  [250 250 250]\n",
      "  ...\n",
      "  [247 247 247]\n",
      "  [252 252 252]\n",
      "  [254 254 254]]\n",
      "\n",
      " [[255 255 255]\n",
      "  [255 255 255]\n",
      "  [253 253 253]\n",
      "  ...\n",
      "  [253 253 253]\n",
      "  [255 255 255]\n",
      "  [255 255 255]]\n",
      "\n",
      " [[254 254 254]\n",
      "  [254 254 254]\n",
      "  [254 254 254]\n",
      "  ...\n",
      "  [253 253 253]\n",
      "  [255 255 255]\n",
      "  [255 255 255]]]\n"
     ]
    }
   ],
   "source": [
    "# Đọc một ảnh (nhan TAB de nhin autocomplete)\n",
    "path= './data/original.jpg'\n",
    "img = cv2.imread(path)\n",
    "# In thông tin của ảnh\n",
    "print(img)"
   ]
  },
  {
   "cell_type": "code",
   "execution_count": 4,
   "id": "13ebd581-bfd7-466f-83e6-32ae2ef20a24",
   "metadata": {
    "tags": []
   },
   "outputs": [
    {
     "name": "stdout",
     "output_type": "stream",
     "text": [
      "(371, 508, 3)\n",
      "371\n",
      "508\n",
      "3\n"
     ]
    }
   ],
   "source": [
    "# Lấy kích thước\n",
    "print(img.shape)\n",
    "x, y, z = img.shape\n",
    "print(x)\n",
    "print(y)\n",
    "print(z)"
   ]
  },
  {
   "cell_type": "code",
   "execution_count": 5,
   "id": "8f78f659-744f-4eaf-92bf-3ee8b156b478",
   "metadata": {},
   "outputs": [],
   "source": [
    "# Hiển thị ảnh\n",
    "cv2.imshow('Window', img)\n",
    "# Chờ một khoảng thời gian\n",
    "cv2.waitKey(10000)\n",
    "# Đóng window\n",
    "cv2.destroyWindow('Window')"
   ]
  },
  {
   "cell_type": "code",
   "execution_count": 6,
   "id": "8ac53364-5e7a-4cb8-8985-1b3d0fb2d2e6",
   "metadata": {},
   "outputs": [],
   "source": [
    "# Tách màu\n",
    "b, g, r = cv2.split(img)\n",
    "cv2.imshow('Window', img)\n",
    "cv2.imshow('Red', r)\n",
    "cv2.imshow('Green', g)\n",
    "cv2.imshow('Blue', b)\n",
    "\n",
    "# Chờ một khoảng thời gian\n",
    "cv2.waitKey(0)\n",
    "# Đóng window\n",
    "cv2.destroyAllWindows()"
   ]
  },
  {
   "cell_type": "code",
   "execution_count": 9,
   "id": "3aee541f-1ffa-4d27-b67a-70cbc8c86e0a",
   "metadata": {
    "tags": []
   },
   "outputs": [],
   "source": [
    "gray_img = cv2.cvtColor(img, cv2.COLOR_BGR2GRAY)\n",
    "img_2 = cv2.cvtColor(img, cv2.COLOR_BGR2RGB)\n",
    "cv2.imshow('Window', img)\n",
    "cv2.imshow('gray_img', gray_img)\n",
    "cv2.imshow('img_2', img_2)\n",
    "# Chờ một khoảng thời gian\n",
    "cv2.waitKey(0)\n",
    "# Đóng window\n",
    "cv2.destroyAllWindows()"
   ]
  },
  {
   "cell_type": "code",
   "execution_count": 6,
   "id": "3491ad44-ed8a-4e13-8e27-5ad0d58c8ef6",
   "metadata": {
    "tags": []
   },
   "outputs": [],
   "source": [
    "# Thay đổi thông số của điểm ảnh\n",
    "height, width, z = img.shape\n",
    "quater_h = height/2\n",
    "quater_w = width/2\n",
    "\n",
    "# geen color\n",
    "green_color = (0,255,0)\n",
    "\n",
    "# copy ảnh\n",
    "img2 = img.copy()\n",
    "\n",
    "# thay đổi màu của góc 1/4 bên trái trên\n",
    "\n",
    "for y in range(int(quater_h)):\n",
    "    for x in range(int(quater_w)):\n",
    "        img2[y, x] = green_color\n",
    "# Hiển thị\n",
    "display('Window', img)\n",
    "display('Window-2', img2)"
   ]
  },
  {
   "cell_type": "code",
   "execution_count": null,
   "id": "54703995-9c75-4230-85a0-fe3406086010",
   "metadata": {},
   "outputs": [],
   "source": []
  }
 ],
 "metadata": {
  "kernelspec": {
   "display_name": "Python 3 (ipykernel)",
   "language": "python",
   "name": "python3"
  },
  "language_info": {
   "codemirror_mode": {
    "name": "ipython",
    "version": 3
   },
   "file_extension": ".py",
   "mimetype": "text/x-python",
   "name": "python",
   "nbconvert_exporter": "python",
   "pygments_lexer": "ipython3",
   "version": "3.11.5"
  }
 },
 "nbformat": 4,
 "nbformat_minor": 5
}
