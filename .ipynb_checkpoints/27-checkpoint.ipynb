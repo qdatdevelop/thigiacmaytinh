{
 "cells": [
  {
   "cell_type": "code",
   "execution_count": 1,
   "id": "c981adc0-d940-42d3-825e-2181414ac097",
   "metadata": {
    "tags": []
   },
   "outputs": [],
   "source": [
    "import cv2\n",
    "import numpy as np"
   ]
  },
  {
   "cell_type": "code",
   "execution_count": 2,
   "id": "0899225b-e247-4a84-b7f2-53af8a99c4e1",
   "metadata": {
    "tags": []
   },
   "outputs": [],
   "source": [
    "# Tải ảnh đầu vào\n",
    "img = cv2.imread('./img/face.png')\n",
    "\n",
    "# Hiển thị ảnh gốc\n",
    "cv2.imshow('Ảnh gốc', img)\n",
    "cv2.waitKey(0)\n",
    "cv2.destroyAllWindows()"
   ]
  },
  {
   "cell_type": "code",
   "execution_count": 3,
   "id": "6979a08a-a9ab-48bc-a25b-6f5efdf945cf",
   "metadata": {
    "tags": []
   },
   "outputs": [
    {
     "name": "stdout",
     "output_type": "stream",
     "text": [
      "(1, 1, 200, 7)\n",
      "[0.         1.         0.9999964  0.08431688 0.03673201 0.27289385\n",
      " 0.21404085]\n",
      "[0.08431688 0.03673201 0.27289385 0.21404085]\n",
      "63 36 204 213\n",
      "[0.40016374 0.02709637 0.5796922  0.2290841 ]\n",
      "300 27 434 228\n",
      "[0.7526962 0.7904155 0.9409632 0.9887612]\n",
      "564 789 705 987\n",
      "[0.75594413 0.02493154 0.94624543 0.23191439]\n",
      "566 24 709 231\n",
      "[0.08840965 0.7984332  0.2506579  0.9847306 ]\n",
      "66 797 187 983\n",
      "[0.7299407  0.2731235  0.9186155  0.48587334]\n",
      "547 272 688 485\n",
      "[0.749446   0.5421455  0.93323225 0.7356533 ]\n",
      "562 541 699 734\n",
      "[0.42464417 0.2903077  0.59998184 0.46850938]\n",
      "318 290 449 468\n",
      "[0.07715233 0.29420722 0.24884456 0.47311437]\n",
      "57 293 186 472\n",
      "[0.38338947 0.79234743 0.5654873  0.98343265]\n",
      "287 791 424 982\n",
      "[0.43102103 0.53480047 0.6274299  0.7348283 ]\n",
      "323 534 470 734\n",
      "[0.07509603 0.5484237  0.24415457 0.7226415 ]\n",
      "56 547 183 721\n"
     ]
    }
   ],
   "source": [
    "# Tải mô hình đã được huấn luyện từ trước\n",
    "net = cv2.dnn.readNetFromCaffe(\n",
    "    './models/deploy.prototxt.txt',\n",
    "    './models/res10_300x300_ssd_iter_140000_fp16.caffemodel'\n",
    ")\n",
    "\n",
    "# Chuẩn bị dữ liệu đầu vào\n",
    "# img: Đây là ảnh đầu vào mà bạn muốn nhận dạng khuôn mặt. Trong trường hợp của bạn, bạn đã đọc ảnh từ tệp \"face.png\".\n",
    "# 1.0: Đây là tỷ lệ co giãn cho ảnh. Trong trường hợp này, ảnh sẽ không bị co giãn hoặc mở rộng, và giữ nguyên kích thước ban đầu.\n",
    "# (300, 300): Đây là kích thước mà mô hình yêu cầu cho ảnh đầu vào. Mô hình mà bạn đang sử dụng mong muốn ảnh có kích thước 300x300 pixel. Do đó, bạn co giãn hoặc cắt ảnh đầu vào thành kích thước này.\n",
    "# (104, 177, 123): Đây là giá trị trung bình màu sắc được trừ đi từ mỗi pixel của ảnh. Điều này thường được sử dụng để chuẩn hóa dữ liệu đầu vào. Trong trường hợp này, các giá trị này thường được lấy từ dữ liệu huấn luyện của mô hình.\n",
    "# swapRB=False: Đây là một cờ để xác định xem có cần hoán đổi các kênh màu đỏ và xanh (Red-Blue) trong ảnh hay không. Trong trường hợp này, bạn đã đặt nó thành False, tức là không hoán đổi kênh mà\n",
    "blob = cv2.dnn.blobFromImage(img, 1.0, (300, 300), (104, 177, 123), swapRB=False)\n",
    "\n",
    "# Đặt dữ liệu đầu vào cho mạng\n",
    "net.setInput(blob)\n",
    "\n",
    "# Chạy mạng để phát hiện khuôn mặt\n",
    "faces = net.forward()\n",
    "\n",
    "# Lấy kích thước của ảnh đầu vào\n",
    "h = img.shape[0]\n",
    "w = img.shape[1]\n",
    "\n",
    "# In thông tin\n",
    "print(faces.shape)\n",
    "print(faces[0, 0, 0, ])\n",
    "\n",
    "# Duyệt từng khuôn mặt đã được phát hiện\n",
    "for i in range(0, faces.shape[2]):\n",
    "    confidence = faces[0,0,i,2]\n",
    "    # Kiểm tra nếu mặt có độ tin cậy là 0.5\n",
    "    if confidence>0.5:\n",
    "        # Trích xuất tọa độ\n",
    "        print(faces[0, 0, i, 3:7])\n",
    "        startx = int(faces[0, 0, i, 3]*w)\n",
    "        starty = int(faces[0, 0, i, 4]*h)\n",
    "        endx = int(faces[0, 0, i, 5]*w)\n",
    "        endy = int(faces[0, 0, i, 6]*h)\n",
    "        print(startx, starty, endx, endy)\n",
    "        \n",
    "        # Vẽ hình chữ nhật xung quanh khuôn mặt đã phát hiện\n",
    "        cv2.rectangle(img, (startx, starty), (endx, endy), (0, 255, 0),)\n",
    "        \n",
    "        # Hiển thị độ tin cậy\n",
    "        text = 'Face: {:.2f}%'.format(confidence*100);\n",
    "        cv2.putText(img, text, (startx, starty-10), cv2.FONT_HERSHEY_PLAIN, 1, (255,255,255),)\n",
    "\n",
    "# Hiển thị ảnh gốc\n",
    "cv2.imshow('Kết quả', img)\n",
    "cv2.waitKey(0)\n",
    "cv2.destroyAllWindows()"
   ]
  },
  {
   "cell_type": "code",
   "execution_count": null,
   "id": "0a04b503-19e4-4da3-bb56-a3dbf2551260",
   "metadata": {},
   "outputs": [],
   "source": []
  }
 ],
 "metadata": {
  "kernelspec": {
   "display_name": "Python 3 (ipykernel)",
   "language": "python",
   "name": "python3"
  },
  "language_info": {
   "codemirror_mode": {
    "name": "ipython",
    "version": 3
   },
   "file_extension": ".py",
   "mimetype": "text/x-python",
   "name": "python",
   "nbconvert_exporter": "python",
   "pygments_lexer": "ipython3",
   "version": "3.11.5"
  }
 },
 "nbformat": 4,
 "nbformat_minor": 5
}
