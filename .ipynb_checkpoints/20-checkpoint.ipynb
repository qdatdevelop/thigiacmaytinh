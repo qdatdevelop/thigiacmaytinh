{
 "cells": [
  {
   "cell_type": "code",
   "execution_count": 2,
   "id": "3a97e371-cc02-47e6-b4ee-a4706bc323f5",
   "metadata": {
    "tags": []
   },
   "outputs": [],
   "source": [
    "import cv2\n",
    "import numpy as np"
   ]
  },
  {
   "cell_type": "code",
   "execution_count": 3,
   "id": "917b6eeb-1d15-4f23-b3dc-2a3426188c82",
   "metadata": {
    "tags": []
   },
   "outputs": [],
   "source": [
    "def display(title, img):\n",
    "    cv2.imshow(title, img)\n",
    "    # Chờ một khoảng thời gian\n",
    "    cv2.waitKey(0)\n",
    "    # Đóng window\n",
    "    cv2.destroyWindow(title)"
   ]
  },
  {
   "cell_type": "code",
   "execution_count": 5,
   "id": "f33a8647-883a-41e4-a5ee-b50b6076d27d",
   "metadata": {
    "tags": []
   },
   "outputs": [],
   "source": [
    "# Tạo một ảnh\n",
    "img =  np.zeros((400, 400, 3), dtype=np.uint8)\n",
    "display('Image', img)"
   ]
  },
  {
   "cell_type": "code",
   "execution_count": 7,
   "id": "6712426e-fab9-4355-ad7b-857e252d1076",
   "metadata": {
    "tags": []
   },
   "outputs": [],
   "source": [
    "# Vẽ đường thẳng\n",
    "cv2.line(img, (50, 50) , (350, 50), (0,0,255), 2)\n",
    "display('Image', img)"
   ]
  },
  {
   "cell_type": "code",
   "execution_count": 8,
   "id": "c8a324e8-131d-4e8c-a6ab-3a54d6dec169",
   "metadata": {
    "tags": []
   },
   "outputs": [
    {
     "ename": "error",
     "evalue": "OpenCV(4.8.1) D:\\a\\opencv-python\\opencv-python\\opencv\\modules\\highgui\\src\\window_w32.cpp:1261: error: (-27:Null pointer) NULL window: 'Image' in function 'cvDestroyWindow'\n",
     "output_type": "error",
     "traceback": [
      "\u001b[1;31m---------------------------------------------------------------------------\u001b[0m",
      "\u001b[1;31merror\u001b[0m                                     Traceback (most recent call last)",
      "Cell \u001b[1;32mIn[8], line 3\u001b[0m\n\u001b[0;32m      1\u001b[0m \u001b[38;5;66;03m# Vẽ đường thẳng\u001b[39;00m\n\u001b[0;32m      2\u001b[0m cv2\u001b[38;5;241m.\u001b[39mcircle(img, (\u001b[38;5;241m100\u001b[39m,\u001b[38;5;241m100\u001b[39m), \u001b[38;5;241m50\u001b[39m, (\u001b[38;5;241m0\u001b[39m, \u001b[38;5;241m255\u001b[39m, \u001b[38;5;241m0\u001b[39m), \u001b[38;5;241m-\u001b[39m\u001b[38;5;241m1\u001b[39m)\n\u001b[1;32m----> 3\u001b[0m display(\u001b[38;5;124m'\u001b[39m\u001b[38;5;124mImage\u001b[39m\u001b[38;5;124m'\u001b[39m, img)\n",
      "Cell \u001b[1;32mIn[3], line 6\u001b[0m, in \u001b[0;36mdisplay\u001b[1;34m(title, img)\u001b[0m\n\u001b[0;32m      4\u001b[0m cv2\u001b[38;5;241m.\u001b[39mwaitKey(\u001b[38;5;241m0\u001b[39m)\n\u001b[0;32m      5\u001b[0m \u001b[38;5;66;03m# Đóng window\u001b[39;00m\n\u001b[1;32m----> 6\u001b[0m cv2\u001b[38;5;241m.\u001b[39mdestroyWindow(title)\n",
      "\u001b[1;31merror\u001b[0m: OpenCV(4.8.1) D:\\a\\opencv-python\\opencv-python\\opencv\\modules\\highgui\\src\\window_w32.cpp:1261: error: (-27:Null pointer) NULL window: 'Image' in function 'cvDestroyWindow'\n"
     ]
    }
   ],
   "source": [
    "# Vẽ hình tròn\n",
    "cv2.circle(img, (100,100), 50, (0, 255, 0), -1)\n",
    "display('Image', img)"
   ]
  },
  {
   "cell_type": "code",
   "execution_count": null,
   "id": "08a4964b-1a5b-4646-8169-b42ceddd0600",
   "metadata": {
    "tags": []
   },
   "outputs": [],
   "source": [
    "# Vẽ hình chữ nhật\n",
    "cv2.rectangle(img, (100,100),(300,300), (255, 0, 0), -1)\n",
    "display('Image', img)"
   ]
  },
  {
   "cell_type": "code",
   "execution_count": null,
   "id": "633979fe-9d2b-4477-af00-b847285d6005",
   "metadata": {},
   "outputs": [],
   "source": [
    "# Ghi text trên hình ảnh\n",
    "content = 'Le Nhat Tung'\n",
    "font = cv2.FONT"
   ]
  }
 ],
 "metadata": {
  "kernelspec": {
   "display_name": "Python 3 (ipykernel)",
   "language": "python",
   "name": "python3"
  },
  "language_info": {
   "codemirror_mode": {
    "name": "ipython",
    "version": 3
   },
   "file_extension": ".py",
   "mimetype": "text/x-python",
   "name": "python",
   "nbconvert_exporter": "python",
   "pygments_lexer": "ipython3",
   "version": "3.11.5"
  }
 },
 "nbformat": 4,
 "nbformat_minor": 5
}
