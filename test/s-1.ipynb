{
 "cells": [
  {
   "cell_type": "code",
   "execution_count": 25,
   "id": "27f64fd4-1c80-4a07-994b-086b468ab10f",
   "metadata": {
    "tags": []
   },
   "outputs": [
    {
     "name": "stdout",
     "output_type": "stream",
     "text": [
      "Giải của hệ phương trình tuyến tính: [ 3. -1.]\n"
     ]
    }
   ],
   "source": [
    "# Giải phương trình tuyến tính:\n",
    "from scipy import linalg\n",
    "import numpy as np\n",
    "\n",
    "# Định nghĩa hệ phương trình tuyến tính\n",
    "A = np.array([[2, 1], [3, 2]])\n",
    "b = np.array([5, 7])\n",
    "\n",
    "# Giải hệ phương trình tuyến tính\n",
    "x = linalg.solve(A, b)\n",
    "print(\"Giải của hệ phương trình tuyến tính:\", x)"
   ]
  },
  {
   "cell_type": "code",
   "execution_count": 13,
   "id": "6c332285-22ba-44ab-bcc0-8f442a933269",
   "metadata": {
    "tags": []
   },
   "outputs": [
    {
     "name": "stdout",
     "output_type": "stream",
     "text": [
      "Tích phân của f(x) từ 0 đến 1: (0.33333333333333337, 3.700743415417189e-15)\n"
     ]
    }
   ],
   "source": [
    "# Tính tích phân của một hàm số\n",
    "from scipy import integrate\n",
    "\n",
    "# Định nghĩa hàm f(x) = x^2\n",
    "def my_function(x):\n",
    "    return x**2\n",
    "\n",
    "# Tính tích phân của f(x) từ 0 đến 1\n",
    "integral = integrate.quad(my_function, 0, 1)\n",
    "print(\"Tích phân của f(x) từ 0 đến 1:\", integral)"
   ]
  },
  {
   "cell_type": "code",
   "execution_count": 18,
   "id": "a5d826bb-6db0-46b4-95c8-cc591092ecaf",
   "metadata": {
    "tags": []
   },
   "outputs": [
    {
     "name": "stdout",
     "output_type": "stream",
     "text": [
      "Ma trận nghịch đảo: [[ 2. -1.]\n",
      " [-3.  2.]]\n"
     ]
    }
   ],
   "source": [
    "# Tính ma trận nghịch đảo:\n",
    "from scipy import linalg\n",
    "\n",
    "# Định nghĩa ma trận\n",
    "A = np.array([[2, 1], [3, 2]])\n",
    "\n",
    "# Tính ma trận nghịch đảo\n",
    "inv_A = linalg.inv(A)\n",
    "print(\"Ma trận nghịch đảo:\", inv_A)"
   ]
  },
  {
   "cell_type": "code",
   "execution_count": 19,
   "id": "0ed7870a-42cd-4c7a-ad4d-a2a583ed979d",
   "metadata": {
    "tags": []
   },
   "outputs": [
    {
     "name": "stdout",
     "output_type": "stream",
     "text": [
      "Giá trị riêng: [3.73205081+0.j 0.26794919+0.j]\n",
      "Vector riêng: [[ 0.5       -0.5      ]\n",
      " [ 0.8660254  0.8660254]]\n"
     ]
    }
   ],
   "source": [
    "# Tính giá trị riêng và vector riêng của một ma trận:\n",
    "# Định nghĩa ma trận\n",
    "A = np.array([[2, 1], [3, 2]])\n",
    "\n",
    "# Tính giá trị riêng và vector riêng của ma trận\n",
    "evals, evecs = linalg.eig(A)\n",
    "print(\"Giá trị riêng:\", evals)\n",
    "print(\"Vector riêng:\", evecs)"
   ]
  }
 ],
 "metadata": {
  "kernelspec": {
   "display_name": "Python 3 (ipykernel)",
   "language": "python",
   "name": "python3"
  },
  "language_info": {
   "codemirror_mode": {
    "name": "ipython",
    "version": 3
   },
   "file_extension": ".py",
   "mimetype": "text/x-python",
   "name": "python",
   "nbconvert_exporter": "python",
   "pygments_lexer": "ipython3",
   "version": "3.11.5"
  }
 },
 "nbformat": 4,
 "nbformat_minor": 5
}
