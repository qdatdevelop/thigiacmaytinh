{
 "cells": [
  {
   "cell_type": "code",
   "execution_count": null,
   "id": "ec8dc2d8-9aec-4a57-b4d1-77bc32cb0b2a",
   "metadata": {
    "tags": []
   },
   "outputs": [],
   "source": [
    "# Import thư viện\n",
    "from PIL import Image\n",
    "from matplotlib import *\n",
    "import matplotlib.pyplot as plt\n",
    "\n",
    "# Đường dẫn ảnh\n",
    "my_path = 'C:/Users/tungi/OneDrive/Documents/src_cv/img/01/1.jpg'\n",
    "# Đọc ảnh và hiển thị ảnh với trục tọa độ\n",
    "image = Image.open(my_path)\n",
    "\n",
    "# Thay đổi backend của Matplotlib\n",
    "plt.switch_backend('tkagg')\n",
    "\n",
    "# Hiển thị ảnh\n",
    "plt.imshow(image)\n",
    "plt.title('Click on the image to select points')\n",
    "plt.show()\n",
    "\n",
    "# Sử dụng hàm ginput để chọn điểm trên ảnh\n",
    "points = plt.ginput(5)  # Số 5 ở đây là số điểm bạn muốn chọn\n",
    "print(\"Selected points:\", points)\n",
    "\n",
    "# Sau khi tương tác, bạn có thể tiếp tục xử lý dữ liệu hoặc hiển thị chúng"
   ]
  },
  {
   "cell_type": "code",
   "execution_count": null,
   "id": "85d3b244-3274-421a-bd8d-518004f68559",
   "metadata": {},
   "outputs": [],
   "source": []
  }
 ],
 "metadata": {
  "kernelspec": {
   "display_name": "Python 3 (ipykernel)",
   "language": "python",
   "name": "python3"
  },
  "language_info": {
   "codemirror_mode": {
    "name": "ipython",
    "version": 3
   },
   "file_extension": ".py",
   "mimetype": "text/x-python",
   "name": "python",
   "nbconvert_exporter": "python",
   "pygments_lexer": "ipython3",
   "version": "3.11.5"
  }
 },
 "nbformat": 4,
 "nbformat_minor": 5
}
