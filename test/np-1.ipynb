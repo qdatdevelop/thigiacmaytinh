{
 "cells": [
  {
   "cell_type": "code",
   "execution_count": 1,
   "id": "46d50ea1-c8c7-4b5c-843a-c61e88cd052e",
   "metadata": {
    "tags": []
   },
   "outputs": [
    {
     "name": "stdout",
     "output_type": "stream",
     "text": [
      "[1 2 3]\n",
      "Phần tử thứ hai trong mảng: 2\n"
     ]
    }
   ],
   "source": [
    "import numpy as np\n",
    "\n",
    "# Tạo một mảng\n",
    "arr = np.array([1, 2, 3])\n",
    "\n",
    "# In mảng\n",
    "print(arr)\n",
    "\n",
    "# In ra một phần tử từ mảng (ví dụ: phần tử thứ hai)\n",
    "element = arr[1]\n",
    "print(f\"Phần tử thứ hai trong mảng: {element}\")"
   ]
  },
  {
   "cell_type": "code",
   "execution_count": 2,
   "id": "4094c3f4-0d22-4c6f-8d76-5b267051c182",
   "metadata": {
    "tags": []
   },
   "outputs": [
    {
     "name": "stdout",
     "output_type": "stream",
     "text": [
      "Ma trận:\n",
      "[[1 2 3]\n",
      " [4 5 6]\n",
      " [7 8 9]]\n",
      "Phần tử ở hàng 2, cột 3 trong ma trận: 6\n"
     ]
    }
   ],
   "source": [
    "import numpy as np\n",
    "\n",
    "# Tạo một mảng 2 chiều (ma trận)\n",
    "matrix = np.array([[1, 2, 3], [4, 5, 6], [7, 8, 9]])\n",
    "\n",
    "# In ra ma trận\n",
    "print(\"Ma trận:\")\n",
    "print(matrix)\n",
    "\n",
    "# In ra một phần tử từ ma trận (ví dụ: phần tử ở hàng 2, cột 3)\n",
    "element = matrix[1, 2]\n",
    "print(f\"Phần tử ở hàng 2, cột 3 trong ma trận: {element}\")"
   ]
  },
  {
   "cell_type": "code",
   "execution_count": 19,
   "id": "b96c836c-c291-4a30-bdf7-99dc78818f58",
   "metadata": {
    "tags": []
   },
   "outputs": [
    {
     "name": "stdout",
     "output_type": "stream",
     "text": [
      "[0. 0.]\n",
      "[1. 1.]\n",
      "[1. 1.]\n",
      "[0 1 2 3]\n",
      "[ 0.   2.5  5.   7.5 10. ]\n",
      "[ 0.  2.  4.  6.  8. 10.]\n",
      "[ 0.    3.75  7.5  11.25 15.  ]\n",
      "[ 0.  3.  6.  9. 12. 15.]\n"
     ]
    },
    {
     "data": {
      "text/plain": [
       "array([1, 1], dtype=int64)"
      ]
     },
     "execution_count": 19,
     "metadata": {},
     "output_type": "execute_result"
    }
   ],
   "source": [
    "# Cách tạo mảng\n",
    "\n",
    "# Tạo một mảng gồm 2 phần tử, mọi giá trị ban đầu là 0.0\n",
    "a = np.zeros(2)\n",
    "print(a)  # In ra: [0. 0.]\n",
    "\n",
    "# Tạo một mảng gồm 2 phần tử, mọi giá trị ban đầu là 1.0\n",
    "a = np.ones(2)\n",
    "print(a)  # In ra: [1. 1.]\n",
    "\n",
    "# Tạo một mảng gồm 2 phần tử, giá trị ban đầu có thể không được thiết lập\n",
    "a = np.empty(2)\n",
    "print(a)  # In ra một mảng với giá trị ngẫu nhiên (thường là rất gần với 0.0)\n",
    "\n",
    "# Tạo một mảng với một dãy số từ 0 đến 3 (có thể điều chỉnh giá trị cuối)\n",
    "a = np.arange(4)\n",
    "print(a)  # In ra: [0 1 2 3]\n",
    "\n",
    "# Tạo một mảng gồm 5 phần tử với giá trị từ 0 đến 10 với khoảng cách đều nhau\n",
    "a = np.linspace(0, 10, num=5)\n",
    "print(a)  # In ra: [ 0.   2.5  5.   7.5 10. ]\n",
    "a = np.linspace(0, 10, num=6)\n",
    "print(a)  # In ra: [ 0.   2.5  5.   7.5 10. ]\n",
    "a = np.linspace(0, 15, num=5)\n",
    "print(a)  # In ra: [ 0.   2.5  5.   7.5 10. ]\n",
    "a = np.linspace(0, 15, num=6)\n",
    "print(a)  # In ra: [ 0.   2.5  5.   7.5 10. ]\n",
    "\n",
    "# Tạo mảng xác định kiểu dữ liệu\n",
    "x = np.ones(2, dtype=np.int64)\n",
    "x"
   ]
  },
  {
   "cell_type": "code",
   "execution_count": 4,
   "id": "112ad2fe-9cb0-44bb-9230-ee6bf2223f0f",
   "metadata": {
    "tags": []
   },
   "outputs": [
    {
     "name": "stdout",
     "output_type": "stream",
     "text": [
      "[3 1 2 4 5]\n",
      "[3 1 2 4 5 6]\n",
      "[3 1 2 5 6]\n",
      "[1 2 3 5 6]\n",
      "[6 5 3 2 1]\n"
     ]
    }
   ],
   "source": [
    "# Thêm, loại bỏ và sắp xếp mảng\n",
    "\n",
    "import numpy as np\n",
    "\n",
    "# Tạo mảng ban đầu\n",
    "arr = np.array([3, 1, 2, 4, 5])\n",
    "print(arr)\n",
    "\n",
    "# Thêm một phần tử vào cuối mảng\n",
    "arr = np.append(arr, 6)\n",
    "print(arr)\n",
    "\n",
    "# Loại bỏ phần tử tại vị trí cụ thể\n",
    "arr = np.delete(arr, 3)\n",
    "print(arr)\n",
    "\n",
    "# Sắp xếp mảng theo thứ tự tăng dần\n",
    "arr = np.sort(arr)\n",
    "print(arr)\n",
    "\n",
    "# Sắp xếp mảng theo thứ tự giảm dần\n",
    "arr = np.sort(arr)[::-1]\n",
    "print(arr)"
   ]
  },
  {
   "cell_type": "code",
   "execution_count": 5,
   "id": "1499dab0-a5ec-41f7-866f-ae2965f3a80f",
   "metadata": {
    "tags": []
   },
   "outputs": [
    {
     "name": "stdout",
     "output_type": "stream",
     "text": [
      "Sắp xếp theo hàng (axis=1):\n",
      "[[1 2 3]\n",
      " [4 5 6]\n",
      " [7 8 9]]\n",
      "\n",
      "Sắp xếp theo cột (axis=0):\n",
      "[[3 1 2]\n",
      " [4 6 5]\n",
      " [9 7 8]]\n"
     ]
    }
   ],
   "source": [
    "import numpy as np\n",
    "\n",
    "# Tạo một mảng 2 chiều\n",
    "arr = np.array([[3, 1, 2],\n",
    "                [4, 6, 5],\n",
    "                [9, 7, 8]])\n",
    "\n",
    "# Sắp xếp mảng theo hàng (axis=1) theo thứ tự tăng dần\n",
    "sap_xep_theo_hang = np.sort(arr, axis=1)\n",
    "print(\"Sắp xếp theo hàng (axis=1):\")\n",
    "print(sap_xep_theo_hang)\n",
    "\n",
    "# Sắp xếp mảng theo cột (axis=0) theo thứ tự tăng dần\n",
    "sap_xep_theo_cot = np.sort(arr, axis=0)\n",
    "print(\"\\nSắp xếp theo cột (axis=0):\")\n",
    "print(sap_xep_theo_cot)"
   ]
  },
  {
   "cell_type": "code",
   "execution_count": 6,
   "id": "70e42184-9ac2-4c98-ae5c-9430d0741e73",
   "metadata": {
    "tags": []
   },
   "outputs": [
    {
     "name": "stdout",
     "output_type": "stream",
     "text": [
      "Sắp xếp theo hàng (axis=1) giảm dần:\n",
      "[[3 2 1]\n",
      " [6 5 4]\n",
      " [9 8 7]]\n",
      "\n",
      "Sắp xếp theo cột (axis=0) giảm dần:\n",
      "[[9 7 8]\n",
      " [4 6 5]\n",
      " [3 1 2]]\n"
     ]
    }
   ],
   "source": [
    "import numpy as np\n",
    "\n",
    "# Tạo một mảng 2 chiều\n",
    "arr = np.array([[3, 1, 2],\n",
    "                [4, 6, 5],\n",
    "                [9, 7, 8]])\n",
    "\n",
    "# Sắp xếp mảng theo hàng (axis=1) theo thứ tự giảm dần\n",
    "sap_xep_theo_hang_giam = -np.sort(-arr, axis=1)\n",
    "print(\"Sắp xếp theo hàng (axis=1) giảm dần:\")\n",
    "print(sap_xep_theo_hang_giam)\n",
    "\n",
    "# Sắp xếp mảng theo cột (axis=0) theo thứ tự giảm dần\n",
    "sap_xep_theo_cot_giam = -np.sort(-arr, axis=0)\n",
    "print(\"\\nSắp xếp theo cột (axis=0) giảm dần:\")\n",
    "print(sap_xep_theo_cot_giam)"
   ]
  },
  {
   "cell_type": "code",
   "execution_count": 7,
   "id": "aacdb17f-20e8-4523-929a-8ff334949a2f",
   "metadata": {
    "tags": []
   },
   "outputs": [
    {
     "name": "stdout",
     "output_type": "stream",
     "text": [
      "Số chiều: 2\n",
      "Kích thước: 6\n",
      "Hình dạng: (2, 3)\n"
     ]
    }
   ],
   "source": [
    "import numpy as np\n",
    "\n",
    "# Tạo một mảng 2D\n",
    "arr = np.array([[1, 2, 3], [4, 5, 6]])\n",
    "\n",
    "# Sử dụng các thuộc tính để lấy thông tin về mảng\n",
    "so_chieu = arr.ndim  # Số chiều (2 chiều)\n",
    "kich_thuoc = arr.size  # Kích thước (tổng số phần tử, 6)\n",
    "hinh_dang = arr.shape  # Hình dạng (số hàng x số cột, (2, 3))\n",
    "\n",
    "print(\"Số chiều:\", so_chieu)\n",
    "print(\"Kích thước:\", kich_thuoc)\n",
    "print(\"Hình dạng:\", hinh_dang)"
   ]
  },
  {
   "cell_type": "code",
   "execution_count": 8,
   "id": "6354c184-00a2-43e3-9571-623b8088d7fd",
   "metadata": {},
   "outputs": [
    {
     "name": "stdout",
     "output_type": "stream",
     "text": [
      "[1. 2. 3. 4. 5.]\n"
     ]
    }
   ],
   "source": [
    "# Chuyển đổi kiểu dữ liệu\n",
    "import numpy as np\n",
    "arr = np.array([1, 2, 3, 4, 5])\n",
    "arr_float = arr.astype(float)\n",
    "print(arr_float)"
   ]
  },
  {
   "cell_type": "code",
   "execution_count": 9,
   "id": "b45f243e-2384-4476-8450-1cbc45f3c0f9",
   "metadata": {
    "tags": []
   },
   "outputs": [
    {
     "name": "stdout",
     "output_type": "stream",
     "text": [
      "[[1 2 3]\n",
      " [4 5 6]]\n"
     ]
    }
   ],
   "source": [
    "#Thay đổi hình dạng của mảng\n",
    "import numpy as np\n",
    "arr = np.array([1, 2, 3, 4, 5, 6])\n",
    "reshaped_arr = arr.reshape(2, 3)\n",
    "print(reshaped_arr)"
   ]
  },
  {
   "cell_type": "code",
   "execution_count": 10,
   "id": "037bfd14-5e08-412d-8e2e-810dd35ba9fe",
   "metadata": {
    "tags": []
   },
   "outputs": [
    {
     "name": "stdout",
     "output_type": "stream",
     "text": [
      "[2 3 4]\n",
      "[1 2 3 4]\n",
      "[5]\n"
     ]
    }
   ],
   "source": [
    "# Cắt lát mảng\n",
    "import numpy as np\n",
    "arr = np.array([1, 2, 3, 4, 5])\n",
    "sub_arr = arr[1:4]  # Cắt từ phần tử thứ 1 đến 4\n",
    "print(sub_arr)\n",
    "sub_arr = arr[:-1]  # ?\n",
    "print(sub_arr)\n",
    "sub_arr = arr[-1:]  # ?\n",
    "print(sub_arr)"
   ]
  },
  {
   "cell_type": "code",
   "execution_count": 11,
   "id": "da7d55f2-e0c2-48bb-9044-5f66cf495588",
   "metadata": {
    "tags": []
   },
   "outputs": [
    {
     "name": "stdout",
     "output_type": "stream",
     "text": [
      "[[1 4]\n",
      " [2 5]\n",
      " [3 6]]\n"
     ]
    }
   ],
   "source": [
    "# Chuyển vị mảng\n",
    "# Để chuyển vị mảng, chúng ta có thể sử dụng .T hoặc hàm numpy.transpose().\n",
    "import numpy as np\n",
    "arr = np.array([[1, 2, 3], [4, 5, 6]])\n",
    "transposed_arr = arr.T\n",
    "print(transposed_arr)"
   ]
  },
  {
   "cell_type": "code",
   "execution_count": 12,
   "id": "6bf3f9a9-44a0-4ae7-8dc6-fd8481593dd7",
   "metadata": {
    "tags": []
   },
   "outputs": [
    {
     "name": "stdout",
     "output_type": "stream",
     "text": [
      "[1 2 3 4 5 6]\n"
     ]
    }
   ],
   "source": [
    "# Nối mảng\n",
    "import numpy as np\n",
    "arr1 = np.array([1, 2, 3])\n",
    "arr2 = np.array([4, 5, 6])\n",
    "concatenated_arr = np.concatenate((arr1, arr2))\n",
    "print(concatenated_arr)"
   ]
  },
  {
   "cell_type": "code",
   "execution_count": 13,
   "id": "504866b4-9961-4e1f-94eb-0ae7671b35a7",
   "metadata": {},
   "outputs": [],
   "source": [
    "# Một số hàm tính toán cơ bản"
   ]
  },
  {
   "cell_type": "code",
   "execution_count": 14,
   "id": "1ac1bb00-9859-4941-871e-21b882ae7755",
   "metadata": {
    "tags": []
   },
   "outputs": [
    {
     "name": "stdout",
     "output_type": "stream",
     "text": [
      "Tổng của mảng arr: 15\n",
      "Giá trị trung bình của mảng arr: 3.0\n",
      "Giá trị lớn nhất trong mảng arr: 5\n",
      "Giá trị nhỏ nhất trong mảng arr: 1\n",
      "Độ lệch chuẩn của mảng arr: 1.4142135623730951\n",
      "Phương sai của mảng arr: 2.0\n",
      "Tổng tích chập của arr1 và arr2: 32\n"
     ]
    }
   ],
   "source": [
    "# Bài giảng về các hàm tính toán cơ bản trong NumPy\n",
    "\n",
    "# I. Giới thiệu\n",
    "# - NumPy (Numerical Python) là một thư viện quan trọng trong Python dùng để làm việc với mảng và ma trận.\n",
    "# - NumPy cung cấp nhiều hàm tính toán cơ bản giúp bạn thực hiện các phép toán số học và thống kê trên mảng.\n",
    "\n",
    "import numpy as np\n",
    "\n",
    "# II. Hàm tính tổng (Sum)\n",
    "# - Hàm numpy.sum() cho phép tính tổng các phần tử trong mảng.\n",
    "arr = np.array([1, 2, 3, 4, 5])\n",
    "total = np.sum(arr)\n",
    "print(\"Tổng của mảng arr:\", total)\n",
    "\n",
    "# III. Hàm tính trung bình (Mean)\n",
    "# - Hàm numpy.mean() tính giá trị trung bình của các phần tử trong mảng.\n",
    "average = np.mean(arr)\n",
    "print(\"Giá trị trung bình của mảng arr:\", average)\n",
    "\n",
    "# IV. Hàm tìm giá trị lớn nhất và nhỏ nhất (Max và Min)\n",
    "# - Hàm numpy.max() và numpy.min() dùng để tìm giá trị lớn nhất và nhỏ nhất trong mảng.\n",
    "max_value = np.max(arr)\n",
    "min_value = np.min(arr)\n",
    "print(\"Giá trị lớn nhất trong mảng arr:\", max_value)\n",
    "print(\"Giá trị nhỏ nhất trong mảng arr:\", min_value)\n",
    "\n",
    "# V. Hàm tính độ lệch chuẩn (Standard Deviation)\n",
    "# - Hàm numpy.std() tính độ lệch chuẩn của mảng, đo lường mức độ phân tán của dữ liệu.\n",
    "std_deviation = np.std(arr)\n",
    "print(\"Độ lệch chuẩn của mảng arr:\", std_deviation)\n",
    "\n",
    "# VI. Hàm tính phương sai (Variance)\n",
    "# - Hàm numpy.var() tính phương sai của mảng, đo lường mức độ biến thiên của dữ liệu.\n",
    "variance = np.var(arr)\n",
    "print(\"Phương sai của mảng arr:\", variance)\n",
    "\n",
    "# VII. Hàm tính tổng tích chập (Dot Product)\n",
    "# - Hàm numpy.dot() tính tổng tích chập của hai mảng (vector).\n",
    "arr1 = np.array([1, 2, 3])\n",
    "arr2 = np.array([4, 5, 6])\n",
    "dot_product = np.dot(arr1, arr2)\n",
    "print(\"Tổng tích chập của arr1 và arr2:\", dot_product)"
   ]
  },
  {
   "cell_type": "code",
   "execution_count": null,
   "id": "de2e0049-bc60-467a-bdf7-68eed1762b90",
   "metadata": {},
   "outputs": [],
   "source": []
  }
 ],
 "metadata": {
  "kernelspec": {
   "display_name": "Python 3 (ipykernel)",
   "language": "python",
   "name": "python3"
  },
  "language_info": {
   "codemirror_mode": {
    "name": "ipython",
    "version": 3
   },
   "file_extension": ".py",
   "mimetype": "text/x-python",
   "name": "python",
   "nbconvert_exporter": "python",
   "pygments_lexer": "ipython3",
   "version": "3.11.5"
  }
 },
 "nbformat": 4,
 "nbformat_minor": 5
}
