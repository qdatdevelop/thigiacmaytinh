{
 "cells": [
  {
   "cell_type": "code",
   "execution_count": 4,
   "id": "85d3b244-3274-421a-bd8d-518004f68559",
   "metadata": {
    "tags": []
   },
   "outputs": [
    {
     "name": "stdout",
     "output_type": "stream",
     "text": [
      "Selected points: [(279.33870967741933, 74.37096774193554), (262.4032258064516, 138.8870967741936), (423.69354838709677, 51.79032258064524)]\n"
     ]
    }
   ],
   "source": [
    "# Import thư viện\n",
    "from PIL import Image\n",
    "from matplotlib import *\n",
    "import matplotlib.pyplot as plt\n",
    "\n",
    "# Đường dẫn ảnh\n",
    "my_path = 'C:/Users/tungi/OneDrive/Documents/src_cv/img/01/1.jpg'\n",
    "# Đọc ảnh và hiển thị ảnh với trục tọa độ\n",
    "image = plt.imread(my_path)\n",
    "\n",
    "# Thay đổi backend của Matplotlib\n",
    "plt.switch_backend('tkagg')\n",
    "\n",
    "# Hiển thị ảnh\n",
    "plt.imshow(image)\n",
    "plt.title('Click on the image to select points')\n",
    "\n",
    "\n",
    "# Sử dụng hàm ginput để chọn điểm trên ảnh\n",
    "points = plt.ginput(3)  # Số 3 ở đây là số điểm bạn muốn chọn\n",
    "print(\"Selected points:\", points)\n",
    "plt.show()\n",
    "# Sau khi tương tác, bạn có thể tiếp tục xử lý dữ liệu hoặc hiển thị chúng"
   ]
  },
  {
   "cell_type": "code",
   "execution_count": 5,
   "id": "3d46909d-ab21-4030-8fa9-14f6848592d4",
   "metadata": {
    "tags": []
   },
   "outputs": [],
   "source": [
    "# Đóng cửa sổ hiển thị ảnh để chuẩn bị hiển thị ảnh đã được chọn\n",
    "plt.close()\n",
    "\n",
    "# Vẽ các điểm đã chọn lên ảnh\n",
    "plt.imshow(image)\n",
    "for point in points:\n",
    "    x, y = point\n",
    "    plt.plot(x, y, 'r*')  # Vẽ điểm dưới dạng \"*\"\n",
    "\n",
    "# Hiển thị ảnh đã được chọn\n",
    "plt.title('Selected Points Marked with \"*\"')\n",
    "plt.show()"
   ]
  }
 ],
 "metadata": {
  "kernelspec": {
   "display_name": "Python 3 (ipykernel)",
   "language": "python",
   "name": "python3"
  },
  "language_info": {
   "codemirror_mode": {
    "name": "ipython",
    "version": 3
   },
   "file_extension": ".py",
   "mimetype": "text/x-python",
   "name": "python",
   "nbconvert_exporter": "python",
   "pygments_lexer": "ipython3",
   "version": "3.11.5"
  }
 },
 "nbformat": 4,
 "nbformat_minor": 5
}
