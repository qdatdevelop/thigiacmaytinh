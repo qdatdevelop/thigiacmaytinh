{
 "cells": [
  {
   "cell_type": "code",
   "execution_count": 5,
   "metadata": {},
   "outputs": [],
   "source": [
    "import numpy as np\n",
    "from PIL import Image\n",
    "import matplotlib.pyplot as plt\n",
    "\n",
    "def can_bang_luoc_do(hinh_anh, so_luong_bins=256):\n",
    "    if hinh_anh.mode != 'L':\n",
    "        hinh_anh = hinh_anh.convert('L')\n",
    "    \n",
    "    mang_hinh_anh = np.array(hinh_anh)\n",
    "    luoc_do, day_so = np.histogram(mang_hinh_anh, bins=so_luong_bins, range=(0, 256), density=True)\n",
    "    cdf = luoc_do.cumsum()\n",
    "    cdf = 255 * cdf / cdf[-1]\n",
    "    hinh_anh_duoc_can_bang = np.interp(mang_hinh_anh, day_so[:-1], cdf)\n",
    "    hinh_anh_can_bang = Image.fromarray(hinh_anh_duoc_can_bang.astype('uint8'))\n",
    "\n",
    "    return hinh_anh_can_bang\n",
    "\n",
    "my_path = 'images/1.jpg'\n",
    "hinh_anh = Image.open(my_path)\n",
    "hinh_anh_da_can_bang = can_bang_luoc_do(hinh_anh)\n",
    "\n",
    "plt.figure(figsize=(15, 10))\n",
    "\n",
    "plt.subplot(2, 2, 1)\n",
    "plt.imshow(hinh_anh.convert(\"L\"), cmap='gray')\n",
    "plt.title('Hình ảnh gốc')\n",
    "\n",
    "plt.subplot(2, 2, 2)\n",
    "plt.hist(np.array(hinh_anh.convert(\"L\")).flatten(), bins=128)\n",
    "plt.title('Biểu đồ Histogram - Hình ảnh gốc')\n",
    "\n",
    "plt.subplot(2, 2, 3)\n",
    "plt.imshow(hinh_anh_da_can_bang, cmap='gray')\n",
    "plt.title('Hình ảnh đã cân bằng')\n",
    "\n",
    "plt.subplot(2, 2, 4)\n",
    "plt.hist(np.array(hinh_anh_da_can_bang).flatten(), bins=128)\n",
    "plt.title('Biểu đồ Histogram - Hình ảnh đã cân bằng')\n",
    "\n",
    "plt.show()\n"
   ]
  }
 ],
 "metadata": {
  "kernelspec": {
   "display_name": "Python 3",
   "language": "python",
   "name": "python3"
  },
  "language_info": {
   "codemirror_mode": {
    "name": "ipython",
    "version": 3
   },
   "file_extension": ".py",
   "mimetype": "text/x-python",
   "name": "python",
   "nbconvert_exporter": "python",
   "pygments_lexer": "ipython3",
   "version": "3.13.0"
  }
 },
 "nbformat": 4,
 "nbformat_minor": 2
}
